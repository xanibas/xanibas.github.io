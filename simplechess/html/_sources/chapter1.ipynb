{
 "cells": [
  {
   "cell_type": "markdown",
   "metadata": {},
   "source": [
    "# How to Play Chess"
   ]
  },
  {
   "cell_type": "markdown",
   "metadata": {},
   "source": [
    "***"
   ]
  },
  {
   "cell_type": "markdown",
   "metadata": {},
   "source": [
    "Chess, as we know it nowadays, was born out of the Indian game *Chaturanga* in the 7th century, and gradually spread to Asia and Persia. The game was inspired by battle, with chess pieces named according to the army divisions of the time. Once chess reached Europe in the 15th century, the pieces names were formalized to *pawn*, *knight*, *bishop*, *rook* and *queen* or *king* to reflect the composition of contemporary armies.\n",
    "\n",
    "Learning the rules of chess is easy, and in this Chapter you will learn to:\n",
    "* Setting up the game\n",
    "* Learn about the names and roles of chess pieces\n",
    "* Learn the rules for moving and capturing chess pieces\n",
    "* How to win a chess game"
   ]
  },
  {
   "cell_type": "code",
   "execution_count": null,
   "metadata": {},
   "outputs": [],
   "source": []
  }
 ],
 "metadata": {
  "kernelspec": {
   "display_name": "Python 3",
   "language": "python",
   "name": "python3"
  },
  "language_info": {
   "codemirror_mode": {
    "name": "ipython",
    "version": 3
   },
   "file_extension": ".py",
   "mimetype": "text/x-python",
   "name": "python",
   "nbconvert_exporter": "python",
   "pygments_lexer": "ipython3",
   "version": "3.6.8"
  },
  "toc-autonumbering": true,
  "toc-showcode": true,
  "toc-showmarkdowntxt": true,
  "widgets": {
   "application/vnd.jupyter.widget-state+json": {
    "state": {},
    "version_major": 2,
    "version_minor": 0
   }
  }
 },
 "nbformat": 4,
 "nbformat_minor": 4
}

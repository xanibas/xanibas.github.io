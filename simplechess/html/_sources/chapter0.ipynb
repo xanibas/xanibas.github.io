{
 "cells": [
  {
   "cell_type": "markdown",
   "metadata": {},
   "source": [
    "# About This Book"
   ]
  },
  {
   "cell_type": "markdown",
   "metadata": {},
   "source": [
    "***"
   ]
  },
  {
   "cell_type": "markdown",
   "metadata": {},
   "source": [
    "Learning to play chess has never been more exciting. The availability of the free online resources and dedicated tools make the game accessible to everybody eager to learn, and the rise of capable chess engines puts the power of the machine at everybody fingertips. In spite of this technological advances, the way we think about chess remains profoundly tied down to the past, and to how strategies were teached from one generation to the next in the form of black & white printed content.\n",
    "\n",
    "In this Book we explore novel ways to think about and visualize chess by embracing the full power of aritifical intelligence. By reading *Simple Chess* you will:\n",
    "* Learn the rules of the game in a fun and intuitive way\n",
    "* Using interactive tools and novel visual representation to analyze chess positions\n",
    "* Explore and learn what is behind the powerful moves of skilled human players and chess engines"
   ]
  },
  {
   "cell_type": "code",
   "execution_count": null,
   "metadata": {},
   "outputs": [],
   "source": []
  }
 ],
 "metadata": {
  "kernelspec": {
   "display_name": "Python 3",
   "language": "python",
   "name": "python3"
  },
  "language_info": {
   "codemirror_mode": {
    "name": "ipython",
    "version": 3
   },
   "file_extension": ".py",
   "mimetype": "text/x-python",
   "name": "python",
   "nbconvert_exporter": "python",
   "pygments_lexer": "ipython3",
   "version": "3.6.8"
  }
 },
 "nbformat": 4,
 "nbformat_minor": 4
}

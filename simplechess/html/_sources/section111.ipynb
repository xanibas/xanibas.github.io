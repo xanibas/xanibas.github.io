{
 "cells": [
  {
   "cell_type": "code",
   "execution_count": 2,
   "metadata": {
    "tags": [
     "remove-input"
    ]
   },
   "outputs": [],
   "source": [
    "%matplotlib inline\n",
    "from helper import *"
   ]
  },
  {
   "cell_type": "markdown",
   "metadata": {
    "tags": [
     "hide-cell"
    ]
   },
   "source": [
    "## Check"
   ]
  },
  {
   "cell_type": "markdown",
   "metadata": {},
   "source": [
    "Chess pieces capture as they move. The rule is simple: if an opponent's piece is on a square on which you are able to move one of your pieces, then on the next move, your piece can go to the square occupied by the opponent's piece and remove it from the chessboard."
   ]
  },
  {
   "cell_type": "code",
   "execution_count": 11,
   "metadata": {
    "tags": [
     "remove-input"
    ]
   },
   "outputs": [
    {
     "data": {
      "image/svg+xml": [
       "<svg baseProfile=\"tiny\" height=\"400\" version=\"1.2\" viewBox=\"0 0 400 400\" width=\"400\" xmlns=\"http://www.w3.org/2000/svg\" xmlns:xlink=\"http://www.w3.org/1999/xlink\"><defs><g class=\"white rook\" fill=\"#fff\" fill-rule=\"evenodd\" id=\"white-rook\" stroke=\"#000\" stroke-linecap=\"round\" stroke-linejoin=\"round\" stroke-width=\"1.5\"><path d=\"M9 39h27v-3H9v3zM12 36v-4h21v4H12zM11 14V9h4v2h5V9h5v2h5V9h4v5\" stroke-linecap=\"butt\"/><path d=\"M34 14l-3 3H14l-3-3\"/><path d=\"M31 17v12.5H14V17\" stroke-linecap=\"butt\" stroke-linejoin=\"miter\"/><path d=\"M31 29.5l1.5 2.5h-20l1.5-2.5\"/><path d=\"M11 14h23\" fill=\"#fff\"/></g><g class=\"white queen\" fill=\"#fff\" fill-rule=\"evenodd\" id=\"white-queen\" stroke=\"#000\" stroke-linecap=\"round\" stroke-linejoin=\"round\" stroke-width=\"1.5\"><path d=\"M8 12a2 2 0 1 1-4 0 2 2 0 1 1 4 0zM24.5 7.5a2 2 0 1 1-4 0 2 2 0 1 1 4 0zM41 12a2 2 0 1 1-4 0 2 2 0 1 1 4 0zM16 8.5a2 2 0 1 1-4 0 2 2 0 1 1 4 0zM33 9a2 2 0 1 1-4 0 2 2 0 1 1 4 0z\"/><path d=\"M9 26c8.5-1.5 21-1.5 27 0l2-12-7 11V11l-5.5 13.5-3-15-3 15-5.5-14V25L7 14l2 12zM9 26c0 2 1.5 2 2.5 4 1 1.5 1 1 .5 3.5-1.5 1-1.5 2.5-1.5 2.5-1.5 1.5.5 2.5.5 2.5 6.5 1 16.5 1 23 0 0 0 1.5-1 0-2.5 0 0 .5-1.5-1-2.5-.5-2.5-.5-2 .5-3.5 1-2 2.5-2 2.5-4-8.5-1.5-18.5-1.5-27 0z\" stroke-linecap=\"butt\"/><path d=\"M11.5 30c3.5-1 18.5-1 22 0M12 33.5c6-1 15-1 21 0\" fill=\"#fff\"/></g><g class=\"white king\" fill=\"#fff\" fill-rule=\"evenodd\" id=\"white-king\" stroke=\"#000\" stroke-linecap=\"round\" stroke-linejoin=\"round\" stroke-width=\"1.5\"><path d=\"M22.5 11.63V6M20 8h5\" stroke-linejoin=\"miter\"/><path d=\"M22.5 25s4.5-7.5 3-10.5c0 0-1-2.5-3-2.5s-3 2.5-3 2.5c-1.5 3 3 10.5 3 10.5\" fill=\"#fff\" stroke-linecap=\"butt\" stroke-linejoin=\"miter\"/><path d=\"M11.5 37c5.5 3.5 15.5 3.5 21 0v-7s9-4.5 6-10.5c-4-6.5-13.5-3.5-16 4V27v-3.5c-3.5-7.5-13-10.5-16-4-3 6 5 10 5 10V37z\" fill=\"#fff\"/><path d=\"M11.5 30c5.5-3 15.5-3 21 0m-21 3.5c5.5-3 15.5-3 21 0m-21 3.5c5.5-3 15.5-3 21 0\"/></g><g class=\"black king\" fill=\"none\" fill-rule=\"evenodd\" id=\"black-king\" stroke=\"#000\" stroke-linecap=\"round\" stroke-linejoin=\"round\" stroke-width=\"1.5\"><path d=\"M22.5 11.63V6\" stroke-linejoin=\"miter\"/><path d=\"M22.5 25s4.5-7.5 3-10.5c0 0-1-2.5-3-2.5s-3 2.5-3 2.5c-1.5 3 3 10.5 3 10.5\" fill=\"#000\" stroke-linecap=\"butt\" stroke-linejoin=\"miter\"/><path d=\"M11.5 37c5.5 3.5 15.5 3.5 21 0v-7s9-4.5 6-10.5c-4-6.5-13.5-3.5-16 4V27v-3.5c-3.5-7.5-13-10.5-16-4-3 6 5 10 5 10V37z\" fill=\"#000\"/><path d=\"M20 8h5\" stroke-linejoin=\"miter\"/><path d=\"M32 29.5s8.5-4 6.03-9.65C34.15 14 25 18 22.5 24.5l.01 2.1-.01-2.1C20 18 9.906 14 6.997 19.85c-2.497 5.65 4.853 9 4.853 9M11.5 30c5.5-3 15.5-3 21 0m-21 3.5c5.5-3 15.5-3 21 0m-21 3.5c5.5-3 15.5-3 21 0\" stroke=\"#fff\"/></g></defs><rect class=\"square dark a1\" fill=\"#DDDDDD\" height=\"45\" stroke=\"none\" width=\"45\" x=\"20\" y=\"335\"/><rect class=\"square light b1\" fill=\"#FFFFFF\" height=\"45\" stroke=\"none\" width=\"45\" x=\"65\" y=\"335\"/><rect class=\"square dark c1\" fill=\"#DDDDDD\" height=\"45\" stroke=\"none\" width=\"45\" x=\"110\" y=\"335\"/><rect class=\"square light d1\" fill=\"#FFFFFF\" height=\"45\" stroke=\"none\" width=\"45\" x=\"155\" y=\"335\"/><rect class=\"square dark e1\" fill=\"#DDDDDD\" height=\"45\" stroke=\"none\" width=\"45\" x=\"200\" y=\"335\"/><rect class=\"square light f1\" fill=\"#FFFFFF\" height=\"45\" stroke=\"none\" width=\"45\" x=\"245\" y=\"335\"/><rect class=\"square dark g1\" fill=\"#DDDDDD\" height=\"45\" stroke=\"none\" width=\"45\" x=\"290\" y=\"335\"/><rect class=\"square light h1\" fill=\"#FFFFFF\" height=\"45\" stroke=\"none\" width=\"45\" x=\"335\" y=\"335\"/><rect class=\"square light a2\" fill=\"#FFFFFF\" height=\"45\" stroke=\"none\" width=\"45\" x=\"20\" y=\"290\"/><rect class=\"square dark b2\" fill=\"#DDDDDD\" height=\"45\" stroke=\"none\" width=\"45\" x=\"65\" y=\"290\"/><rect class=\"square light c2\" fill=\"#FFFFFF\" height=\"45\" stroke=\"none\" width=\"45\" x=\"110\" y=\"290\"/><rect class=\"square dark d2\" fill=\"#DDDDDD\" height=\"45\" stroke=\"none\" width=\"45\" x=\"155\" y=\"290\"/><rect class=\"square light e2\" fill=\"#FFFFFF\" height=\"45\" stroke=\"none\" width=\"45\" x=\"200\" y=\"290\"/><rect class=\"square dark f2\" fill=\"#DDDDDD\" height=\"45\" stroke=\"none\" width=\"45\" x=\"245\" y=\"290\"/><rect class=\"square light g2\" fill=\"#FFFFFF\" height=\"45\" stroke=\"none\" width=\"45\" x=\"290\" y=\"290\"/><rect class=\"square dark h2\" fill=\"#DDDDDD\" height=\"45\" stroke=\"none\" width=\"45\" x=\"335\" y=\"290\"/><rect class=\"square dark a3\" fill=\"#DDDDDD\" height=\"45\" stroke=\"none\" width=\"45\" x=\"20\" y=\"245\"/><rect class=\"square light b3\" fill=\"#FFFFFF\" height=\"45\" stroke=\"none\" width=\"45\" x=\"65\" y=\"245\"/><rect class=\"square dark c3\" fill=\"#DDDDDD\" height=\"45\" stroke=\"none\" width=\"45\" x=\"110\" y=\"245\"/><rect class=\"square light d3\" fill=\"#FFFFFF\" height=\"45\" stroke=\"none\" width=\"45\" x=\"155\" y=\"245\"/><rect class=\"square dark e3\" fill=\"#DDDDDD\" height=\"45\" stroke=\"none\" width=\"45\" x=\"200\" y=\"245\"/><rect class=\"square light f3\" fill=\"#FFFFFF\" height=\"45\" stroke=\"none\" width=\"45\" x=\"245\" y=\"245\"/><rect class=\"square dark g3\" fill=\"#DDDDDD\" height=\"45\" stroke=\"none\" width=\"45\" x=\"290\" y=\"245\"/><rect class=\"square light h3\" fill=\"#FFFFFF\" height=\"45\" stroke=\"none\" width=\"45\" x=\"335\" y=\"245\"/><rect class=\"square light a4\" fill=\"#FFFFFF\" height=\"45\" stroke=\"none\" width=\"45\" x=\"20\" y=\"200\"/><rect class=\"square dark b4\" fill=\"#DDDDDD\" height=\"45\" stroke=\"none\" width=\"45\" x=\"65\" y=\"200\"/><rect class=\"square light c4\" fill=\"#FFFFFF\" height=\"45\" stroke=\"none\" width=\"45\" x=\"110\" y=\"200\"/><rect class=\"square dark d4\" fill=\"#DDDDDD\" height=\"45\" stroke=\"none\" width=\"45\" x=\"155\" y=\"200\"/><rect class=\"square light e4\" fill=\"#FFFFFF\" height=\"45\" stroke=\"none\" width=\"45\" x=\"200\" y=\"200\"/><rect class=\"square dark f4\" fill=\"#DDDDDD\" height=\"45\" stroke=\"none\" width=\"45\" x=\"245\" y=\"200\"/><rect class=\"square light g4\" fill=\"#FFFFFF\" height=\"45\" stroke=\"none\" width=\"45\" x=\"290\" y=\"200\"/><rect class=\"square dark h4\" fill=\"#DDDDDD\" height=\"45\" stroke=\"none\" width=\"45\" x=\"335\" y=\"200\"/><rect class=\"square dark a5\" fill=\"#DDDDDD\" height=\"45\" stroke=\"none\" width=\"45\" x=\"20\" y=\"155\"/><rect class=\"square light b5\" fill=\"#FFFFFF\" height=\"45\" stroke=\"none\" width=\"45\" x=\"65\" y=\"155\"/><rect class=\"square dark c5\" fill=\"#DDDDDD\" height=\"45\" stroke=\"none\" width=\"45\" x=\"110\" y=\"155\"/><rect class=\"square light d5\" fill=\"#FFFFFF\" height=\"45\" stroke=\"none\" width=\"45\" x=\"155\" y=\"155\"/><rect class=\"square dark lastmove e5\" fill=\"#808080\" height=\"45\" stroke=\"none\" width=\"45\" x=\"200\" y=\"155\"/><rect class=\"square light f5\" fill=\"#FFFFFF\" height=\"45\" stroke=\"none\" width=\"45\" x=\"245\" y=\"155\"/><rect class=\"square dark g5\" fill=\"#DDDDDD\" height=\"45\" stroke=\"none\" width=\"45\" x=\"290\" y=\"155\"/><rect class=\"square light h5\" fill=\"#FFFFFF\" height=\"45\" stroke=\"none\" width=\"45\" x=\"335\" y=\"155\"/><rect class=\"square light a6\" fill=\"#FFFFFF\" height=\"45\" stroke=\"none\" width=\"45\" x=\"20\" y=\"110\"/><rect class=\"square dark b6\" fill=\"#DDDDDD\" height=\"45\" stroke=\"none\" width=\"45\" x=\"65\" y=\"110\"/><rect class=\"square light c6\" fill=\"#FFFFFF\" height=\"45\" stroke=\"none\" width=\"45\" x=\"110\" y=\"110\"/><rect class=\"square dark lastmove d6\" fill=\"#808080\" height=\"45\" stroke=\"none\" width=\"45\" x=\"155\" y=\"110\"/><rect class=\"square light e6\" fill=\"#FFFFFF\" height=\"45\" stroke=\"none\" width=\"45\" x=\"200\" y=\"110\"/><rect class=\"square dark f6\" fill=\"#DDDDDD\" height=\"45\" stroke=\"none\" width=\"45\" x=\"245\" y=\"110\"/><rect class=\"square light g6\" fill=\"#FFFFFF\" height=\"45\" stroke=\"none\" width=\"45\" x=\"290\" y=\"110\"/><rect class=\"square dark h6\" fill=\"#DDDDDD\" height=\"45\" stroke=\"none\" width=\"45\" x=\"335\" y=\"110\"/><rect class=\"square dark a7\" fill=\"#DDDDDD\" height=\"45\" stroke=\"none\" width=\"45\" x=\"20\" y=\"65\"/><rect class=\"square light b7\" fill=\"#FFFFFF\" height=\"45\" stroke=\"none\" width=\"45\" x=\"65\" y=\"65\"/><rect class=\"square dark c7\" fill=\"#DDDDDD\" height=\"45\" stroke=\"none\" width=\"45\" x=\"110\" y=\"65\"/><rect class=\"square light d7\" fill=\"#FFFFFF\" height=\"45\" stroke=\"none\" width=\"45\" x=\"155\" y=\"65\"/><rect class=\"square dark e7\" fill=\"#DDDDDD\" height=\"45\" stroke=\"none\" width=\"45\" x=\"200\" y=\"65\"/><rect class=\"square light f7\" fill=\"#FFFFFF\" height=\"45\" stroke=\"none\" width=\"45\" x=\"245\" y=\"65\"/><rect class=\"square dark g7\" fill=\"#DDDDDD\" height=\"45\" stroke=\"none\" width=\"45\" x=\"290\" y=\"65\"/><rect class=\"square light h7\" fill=\"#FFFFFF\" height=\"45\" stroke=\"none\" width=\"45\" x=\"335\" y=\"65\"/><rect class=\"square light a8\" fill=\"#FFFFFF\" height=\"45\" stroke=\"none\" width=\"45\" x=\"20\" y=\"20\"/><rect class=\"square dark b8\" fill=\"#DDDDDD\" height=\"45\" stroke=\"none\" width=\"45\" x=\"65\" y=\"20\"/><rect class=\"square light c8\" fill=\"#FFFFFF\" height=\"45\" stroke=\"none\" width=\"45\" x=\"110\" y=\"20\"/><rect class=\"square dark d8\" fill=\"#DDDDDD\" height=\"45\" stroke=\"none\" width=\"45\" x=\"155\" y=\"20\"/><rect class=\"square light e8\" fill=\"#FFFFFF\" height=\"45\" stroke=\"none\" width=\"45\" x=\"200\" y=\"20\"/><rect class=\"square dark f8\" fill=\"#DDDDDD\" height=\"45\" stroke=\"none\" width=\"45\" x=\"245\" y=\"20\"/><rect class=\"square light g8\" fill=\"#FFFFFF\" height=\"45\" stroke=\"none\" width=\"45\" x=\"290\" y=\"20\"/><rect class=\"square dark h8\" fill=\"#DDDDDD\" height=\"45\" stroke=\"none\" width=\"45\" x=\"335\" y=\"20\"/><use transform=\"translate(110, 335)\" xlink:href=\"#white-queen\"/><use transform=\"translate(155, 335)\" xlink:href=\"#white-king\"/><use transform=\"translate(155, 110)\" xlink:href=\"#black-king\"/><use transform=\"translate(20, 65)\" xlink:href=\"#white-rook\"/></svg>"
      ],
      "text/plain": [
       "<IPython.core.display.SVG object>"
      ]
     },
     "metadata": {},
     "output_type": "display_data"
    },
    {
     "name": "stdout",
     "output_type": "stream",
     "text": [
      "Is White Turn  \n"
     ]
    }
   ],
   "source": [
    "board = fenBoard('8/R7/3R4/4k3/8/8/8/2QK4 b - - 0 1')\n",
    "board.push(chess.Move.from_uci('e5d6'))\n",
    "display(displayBoard(board))\n",
    "getTurn(board)"
   ]
  },
  {
   "cell_type": "markdown",
   "metadata": {},
   "source": [
    "**Question:** What happens after the king moves to the rook's square?"
   ]
  },
  {
   "cell_type": "code",
   "execution_count": 10,
   "metadata": {
    "tags": [
     "remove-input",
     "hide-cell"
    ]
   },
   "outputs": [
    {
     "data": {
      "image/svg+xml": [
       "<svg baseProfile=\"tiny\" height=\"400\" version=\"1.2\" viewBox=\"0 0 400 400\" width=\"400\" xmlns=\"http://www.w3.org/2000/svg\" xmlns:xlink=\"http://www.w3.org/1999/xlink\"><defs><g class=\"white rook\" fill=\"#fff\" fill-rule=\"evenodd\" id=\"white-rook\" stroke=\"#000\" stroke-linecap=\"round\" stroke-linejoin=\"round\" stroke-width=\"1.5\"><path d=\"M9 39h27v-3H9v3zM12 36v-4h21v4H12zM11 14V9h4v2h5V9h5v2h5V9h4v5\" stroke-linecap=\"butt\"/><path d=\"M34 14l-3 3H14l-3-3\"/><path d=\"M31 17v12.5H14V17\" stroke-linecap=\"butt\" stroke-linejoin=\"miter\"/><path d=\"M31 29.5l1.5 2.5h-20l1.5-2.5\"/><path d=\"M11 14h23\" fill=\"#fff\"/></g><g class=\"white queen\" fill=\"#fff\" fill-rule=\"evenodd\" id=\"white-queen\" stroke=\"#000\" stroke-linecap=\"round\" stroke-linejoin=\"round\" stroke-width=\"1.5\"><path d=\"M8 12a2 2 0 1 1-4 0 2 2 0 1 1 4 0zM24.5 7.5a2 2 0 1 1-4 0 2 2 0 1 1 4 0zM41 12a2 2 0 1 1-4 0 2 2 0 1 1 4 0zM16 8.5a2 2 0 1 1-4 0 2 2 0 1 1 4 0zM33 9a2 2 0 1 1-4 0 2 2 0 1 1 4 0z\"/><path d=\"M9 26c8.5-1.5 21-1.5 27 0l2-12-7 11V11l-5.5 13.5-3-15-3 15-5.5-14V25L7 14l2 12zM9 26c0 2 1.5 2 2.5 4 1 1.5 1 1 .5 3.5-1.5 1-1.5 2.5-1.5 2.5-1.5 1.5.5 2.5.5 2.5 6.5 1 16.5 1 23 0 0 0 1.5-1 0-2.5 0 0 .5-1.5-1-2.5-.5-2.5-.5-2 .5-3.5 1-2 2.5-2 2.5-4-8.5-1.5-18.5-1.5-27 0z\" stroke-linecap=\"butt\"/><path d=\"M11.5 30c3.5-1 18.5-1 22 0M12 33.5c6-1 15-1 21 0\" fill=\"#fff\"/></g><g class=\"white king\" fill=\"#fff\" fill-rule=\"evenodd\" id=\"white-king\" stroke=\"#000\" stroke-linecap=\"round\" stroke-linejoin=\"round\" stroke-width=\"1.5\"><path d=\"M22.5 11.63V6M20 8h5\" stroke-linejoin=\"miter\"/><path d=\"M22.5 25s4.5-7.5 3-10.5c0 0-1-2.5-3-2.5s-3 2.5-3 2.5c-1.5 3 3 10.5 3 10.5\" fill=\"#fff\" stroke-linecap=\"butt\" stroke-linejoin=\"miter\"/><path d=\"M11.5 37c5.5 3.5 15.5 3.5 21 0v-7s9-4.5 6-10.5c-4-6.5-13.5-3.5-16 4V27v-3.5c-3.5-7.5-13-10.5-16-4-3 6 5 10 5 10V37z\" fill=\"#fff\"/><path d=\"M11.5 30c5.5-3 15.5-3 21 0m-21 3.5c5.5-3 15.5-3 21 0m-21 3.5c5.5-3 15.5-3 21 0\"/></g><g class=\"black king\" fill=\"none\" fill-rule=\"evenodd\" id=\"black-king\" stroke=\"#000\" stroke-linecap=\"round\" stroke-linejoin=\"round\" stroke-width=\"1.5\"><path d=\"M22.5 11.63V6\" stroke-linejoin=\"miter\"/><path d=\"M22.5 25s4.5-7.5 3-10.5c0 0-1-2.5-3-2.5s-3 2.5-3 2.5c-1.5 3 3 10.5 3 10.5\" fill=\"#000\" stroke-linecap=\"butt\" stroke-linejoin=\"miter\"/><path d=\"M11.5 37c5.5 3.5 15.5 3.5 21 0v-7s9-4.5 6-10.5c-4-6.5-13.5-3.5-16 4V27v-3.5c-3.5-7.5-13-10.5-16-4-3 6 5 10 5 10V37z\" fill=\"#000\"/><path d=\"M20 8h5\" stroke-linejoin=\"miter\"/><path d=\"M32 29.5s8.5-4 6.03-9.65C34.15 14 25 18 22.5 24.5l.01 2.1-.01-2.1C20 18 9.906 14 6.997 19.85c-2.497 5.65 4.853 9 4.853 9M11.5 30c5.5-3 15.5-3 21 0m-21 3.5c5.5-3 15.5-3 21 0m-21 3.5c5.5-3 15.5-3 21 0\" stroke=\"#fff\"/></g></defs><rect class=\"square dark a1\" fill=\"#DDDDDD\" height=\"45\" stroke=\"none\" width=\"45\" x=\"20\" y=\"335\"/><rect class=\"square light lastmove b1\" fill=\"#808080\" height=\"45\" stroke=\"none\" width=\"45\" x=\"65\" y=\"335\"/><rect class=\"square dark c1\" fill=\"#DDDDDD\" height=\"45\" stroke=\"none\" width=\"45\" x=\"110\" y=\"335\"/><rect class=\"square light d1\" fill=\"#FFFFFF\" height=\"45\" stroke=\"none\" width=\"45\" x=\"155\" y=\"335\"/><rect class=\"square dark e1\" fill=\"#DDDDDD\" height=\"45\" stroke=\"none\" width=\"45\" x=\"200\" y=\"335\"/><rect class=\"square light f1\" fill=\"#FFFFFF\" height=\"45\" stroke=\"none\" width=\"45\" x=\"245\" y=\"335\"/><rect class=\"square dark g1\" fill=\"#DDDDDD\" height=\"45\" stroke=\"none\" width=\"45\" x=\"290\" y=\"335\"/><rect class=\"square light h1\" fill=\"#FFFFFF\" height=\"45\" stroke=\"none\" width=\"45\" x=\"335\" y=\"335\"/><rect class=\"square light a2\" fill=\"#FFFFFF\" height=\"45\" stroke=\"none\" width=\"45\" x=\"20\" y=\"290\"/><rect class=\"square dark b2\" fill=\"#DDDDDD\" height=\"45\" stroke=\"none\" width=\"45\" x=\"65\" y=\"290\"/><rect class=\"square light c2\" fill=\"#FFFFFF\" height=\"45\" stroke=\"none\" width=\"45\" x=\"110\" y=\"290\"/><rect class=\"square dark d2\" fill=\"#DDDDDD\" height=\"45\" stroke=\"none\" width=\"45\" x=\"155\" y=\"290\"/><rect class=\"square light e2\" fill=\"#FFFFFF\" height=\"45\" stroke=\"none\" width=\"45\" x=\"200\" y=\"290\"/><rect class=\"square dark f2\" fill=\"#DDDDDD\" height=\"45\" stroke=\"none\" width=\"45\" x=\"245\" y=\"290\"/><rect class=\"square light g2\" fill=\"#FFFFFF\" height=\"45\" stroke=\"none\" width=\"45\" x=\"290\" y=\"290\"/><rect class=\"square dark h2\" fill=\"#DDDDDD\" height=\"45\" stroke=\"none\" width=\"45\" x=\"335\" y=\"290\"/><rect class=\"square dark a3\" fill=\"#DDDDDD\" height=\"45\" stroke=\"none\" width=\"45\" x=\"20\" y=\"245\"/><rect class=\"square light b3\" fill=\"#FFFFFF\" height=\"45\" stroke=\"none\" width=\"45\" x=\"65\" y=\"245\"/><rect class=\"square dark c3\" fill=\"#DDDDDD\" height=\"45\" stroke=\"none\" width=\"45\" x=\"110\" y=\"245\"/><rect class=\"square light d3\" fill=\"#FFFFFF\" height=\"45\" stroke=\"none\" width=\"45\" x=\"155\" y=\"245\"/><rect class=\"square dark e3\" fill=\"#DDDDDD\" height=\"45\" stroke=\"none\" width=\"45\" x=\"200\" y=\"245\"/><rect class=\"square light f3\" fill=\"#FFFFFF\" height=\"45\" stroke=\"none\" width=\"45\" x=\"245\" y=\"245\"/><rect class=\"square dark g3\" fill=\"#DDDDDD\" height=\"45\" stroke=\"none\" width=\"45\" x=\"290\" y=\"245\"/><rect class=\"square light h3\" fill=\"#FFFFFF\" height=\"45\" stroke=\"none\" width=\"45\" x=\"335\" y=\"245\"/><rect class=\"square light a4\" fill=\"#FFFFFF\" height=\"45\" stroke=\"none\" width=\"45\" x=\"20\" y=\"200\"/><rect class=\"square dark b4\" fill=\"#DDDDDD\" height=\"45\" stroke=\"none\" width=\"45\" x=\"65\" y=\"200\"/><rect class=\"square light c4\" fill=\"#FFFFFF\" height=\"45\" stroke=\"none\" width=\"45\" x=\"110\" y=\"200\"/><rect class=\"square dark d4\" fill=\"#DDDDDD\" height=\"45\" stroke=\"none\" width=\"45\" x=\"155\" y=\"200\"/><rect class=\"square light e4\" fill=\"#FFFFFF\" height=\"45\" stroke=\"none\" width=\"45\" x=\"200\" y=\"200\"/><rect class=\"square dark f4\" fill=\"#DDDDDD\" height=\"45\" stroke=\"none\" width=\"45\" x=\"245\" y=\"200\"/><rect class=\"square light g4\" fill=\"#FFFFFF\" height=\"45\" stroke=\"none\" width=\"45\" x=\"290\" y=\"200\"/><rect class=\"square dark h4\" fill=\"#DDDDDD\" height=\"45\" stroke=\"none\" width=\"45\" x=\"335\" y=\"200\"/><rect class=\"square dark a5\" fill=\"#DDDDDD\" height=\"45\" stroke=\"none\" width=\"45\" x=\"20\" y=\"155\"/><rect class=\"square light b5\" fill=\"#FFFFFF\" height=\"45\" stroke=\"none\" width=\"45\" x=\"65\" y=\"155\"/><rect class=\"square dark c5\" fill=\"#DDDDDD\" height=\"45\" stroke=\"none\" width=\"45\" x=\"110\" y=\"155\"/><rect class=\"square light d5\" fill=\"#FFFFFF\" height=\"45\" stroke=\"none\" width=\"45\" x=\"155\" y=\"155\"/><rect class=\"square dark e5\" fill=\"#DDDDDD\" height=\"45\" stroke=\"none\" width=\"45\" x=\"200\" y=\"155\"/><rect class=\"square light f5\" fill=\"#FFFFFF\" height=\"45\" stroke=\"none\" width=\"45\" x=\"245\" y=\"155\"/><rect class=\"square dark g5\" fill=\"#DDDDDD\" height=\"45\" stroke=\"none\" width=\"45\" x=\"290\" y=\"155\"/><rect class=\"square light h5\" fill=\"#FFFFFF\" height=\"45\" stroke=\"none\" width=\"45\" x=\"335\" y=\"155\"/><rect class=\"square light a6\" fill=\"#FFFFFF\" height=\"45\" stroke=\"none\" width=\"45\" x=\"20\" y=\"110\"/><rect class=\"square dark lastmove b6\" fill=\"#808080\" height=\"45\" stroke=\"none\" width=\"45\" x=\"65\" y=\"110\"/><rect class=\"square light c6\" fill=\"#FFFFFF\" height=\"45\" stroke=\"none\" width=\"45\" x=\"110\" y=\"110\"/><rect class=\"square dark d6\" fill=\"#DDDDDD\" height=\"45\" stroke=\"none\" width=\"45\" x=\"155\" y=\"110\"/><rect class=\"square light e6\" fill=\"#FFFFFF\" height=\"45\" stroke=\"none\" width=\"45\" x=\"200\" y=\"110\"/><rect class=\"square dark f6\" fill=\"#DDDDDD\" height=\"45\" stroke=\"none\" width=\"45\" x=\"245\" y=\"110\"/><rect class=\"square light g6\" fill=\"#FFFFFF\" height=\"45\" stroke=\"none\" width=\"45\" x=\"290\" y=\"110\"/><rect class=\"square dark h6\" fill=\"#DDDDDD\" height=\"45\" stroke=\"none\" width=\"45\" x=\"335\" y=\"110\"/><rect class=\"square dark a7\" fill=\"#DDDDDD\" height=\"45\" stroke=\"none\" width=\"45\" x=\"20\" y=\"65\"/><rect class=\"square light b7\" fill=\"#FFFFFF\" height=\"45\" stroke=\"none\" width=\"45\" x=\"65\" y=\"65\"/><rect class=\"square dark c7\" fill=\"#DDDDDD\" height=\"45\" stroke=\"none\" width=\"45\" x=\"110\" y=\"65\"/><rect class=\"square light d7\" fill=\"#FFFFFF\" height=\"45\" stroke=\"none\" width=\"45\" x=\"155\" y=\"65\"/><rect class=\"square dark e7\" fill=\"#DDDDDD\" height=\"45\" stroke=\"none\" width=\"45\" x=\"200\" y=\"65\"/><rect class=\"square light f7\" fill=\"#FFFFFF\" height=\"45\" stroke=\"none\" width=\"45\" x=\"245\" y=\"65\"/><rect class=\"square dark g7\" fill=\"#DDDDDD\" height=\"45\" stroke=\"none\" width=\"45\" x=\"290\" y=\"65\"/><rect class=\"square light h7\" fill=\"#FFFFFF\" height=\"45\" stroke=\"none\" width=\"45\" x=\"335\" y=\"65\"/><rect class=\"square light a8\" fill=\"#FFFFFF\" height=\"45\" stroke=\"none\" width=\"45\" x=\"20\" y=\"20\"/><rect class=\"square dark b8\" fill=\"#DDDDDD\" height=\"45\" stroke=\"none\" width=\"45\" x=\"65\" y=\"20\"/><rect class=\"square light c8\" fill=\"#FFFFFF\" height=\"45\" stroke=\"none\" width=\"45\" x=\"110\" y=\"20\"/><rect class=\"square dark d8\" fill=\"#DDDDDD\" height=\"45\" stroke=\"none\" width=\"45\" x=\"155\" y=\"20\"/><rect class=\"square light e8\" fill=\"#FFFFFF\" height=\"45\" stroke=\"none\" width=\"45\" x=\"200\" y=\"20\"/><rect class=\"square dark f8\" fill=\"#DDDDDD\" height=\"45\" stroke=\"none\" width=\"45\" x=\"245\" y=\"20\"/><rect class=\"square light g8\" fill=\"#FFFFFF\" height=\"45\" stroke=\"none\" width=\"45\" x=\"290\" y=\"20\"/><rect class=\"square dark h8\" fill=\"#DDDDDD\" height=\"45\" stroke=\"none\" width=\"45\" x=\"335\" y=\"20\"/><use transform=\"translate(110, 335)\" xlink:href=\"#white-king\"/><use transform=\"translate(65, 110)\" xlink:href=\"#white-queen\"/><use transform=\"translate(155, 110)\" xlink:href=\"#black-king\"/><use transform=\"translate(20, 65)\" xlink:href=\"#white-rook\"/></svg>"
      ],
      "text/plain": [
       "<IPython.core.display.SVG object>"
      ]
     },
     "metadata": {},
     "output_type": "display_data"
    },
    {
     "name": "stdout",
     "output_type": "stream",
     "text": [
      "Is Black Turn  \n"
     ]
    }
   ],
   "source": [
    "board.push(chess.Move.from_uci('b1b6'))\n",
    "display(displayBoard(board))\n",
    "getTurn(board)"
   ]
  },
  {
   "cell_type": "code",
   "execution_count": null,
   "metadata": {},
   "outputs": [],
   "source": []
  }
 ],
 "metadata": {
  "kernelspec": {
   "display_name": "Python 3",
   "language": "python",
   "name": "python3"
  },
  "language_info": {
   "codemirror_mode": {
    "name": "ipython",
    "version": 3
   },
   "file_extension": ".py",
   "mimetype": "text/x-python",
   "name": "python",
   "nbconvert_exporter": "python",
   "pygments_lexer": "ipython3",
   "version": "3.6.8"
  },
  "toc-autonumbering": true,
  "toc-showcode": true,
  "toc-showmarkdowntxt": true,
  "widgets": {
   "application/vnd.jupyter.widget-state+json": {
    "state": {},
    "version_major": 2,
    "version_minor": 0
   }
  }
 },
 "nbformat": 4,
 "nbformat_minor": 4
}
